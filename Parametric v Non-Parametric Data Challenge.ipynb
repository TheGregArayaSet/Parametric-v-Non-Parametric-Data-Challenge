{
 "cells": [
  {
   "cell_type": "markdown",
   "metadata": {},
   "source": [
    "# Advanced Experimentation Challenge: What to Use\n",
    "\n",
    "Using selected questions from the 2012 and 2014 editions of the [European Social Survey](http://www.europeansocialsurvey.org/data/round-index.html), address the following questions. Keep track of your code and results in a Jupyter notebook or other source that you can share with your mentor. For each question, explain why you chose the approach you did.\n",
    "\n",
    "Here is the [data file](https://raw.githubusercontent.com/Thinkful-Ed/data-201-resources/master/ESS_practice_data/ESSdata_Thinkful.csv). And here is the [codebook](https://thinkful-ed.github.io/data-201-resources/ESS_practice_data/ESS_codebook.html), with information about the variable coding and content.\n",
    "\n",
    "In this dataset, the same participants answered questions in 2012 and again 2014.\n",
    "\n",
    "1. Did people become less trusting from 2012 to 2014? Compute results for each country in the sample.\n",
    "2. Did people become happier from 2012 to 2014? Compute results for each country in the sample.\n",
    "3. Who reported watching more TV in 2012, men or women?\n",
    "4. Who was more likely to believe people were fair in 2012, people living with a partner or people living alone?\n",
    "5. Pick three or four of the countries in the sample and compare how often people met socially in 2014. Are there differences, and if so, which countries stand out?\n",
    "6. Pick three or four of the countries in the sample and compare how often people took part in social activities, relative to others their age, in 2014. Are there differences, and if so, which countries stand out?"
   ]
  },
  {
   "cell_type": "code",
   "execution_count": 1,
   "metadata": {},
   "outputs": [],
   "source": [
    "# Import in modules we'll need\n",
    "import pandas as pd\n",
    "import matplotlib.pyplot as plt\n",
    "import scipy.stats as stats\n",
    "import numpy as np\n",
    "%matplotlib inline"
   ]
  },
  {
   "cell_type": "code",
   "execution_count": 2,
   "metadata": {},
   "outputs": [
    {
     "data": {
      "text/html": [
       "<div>\n",
       "<style scoped>\n",
       "    .dataframe tbody tr th:only-of-type {\n",
       "        vertical-align: middle;\n",
       "    }\n",
       "\n",
       "    .dataframe tbody tr th {\n",
       "        vertical-align: top;\n",
       "    }\n",
       "\n",
       "    .dataframe thead th {\n",
       "        text-align: right;\n",
       "    }\n",
       "</style>\n",
       "<table border=\"1\" class=\"dataframe\">\n",
       "  <thead>\n",
       "    <tr style=\"text-align: right;\">\n",
       "      <th></th>\n",
       "      <th>cntry</th>\n",
       "      <th>idno</th>\n",
       "      <th>year</th>\n",
       "      <th>tvtot</th>\n",
       "      <th>ppltrst</th>\n",
       "      <th>pplfair</th>\n",
       "      <th>pplhlp</th>\n",
       "      <th>happy</th>\n",
       "      <th>sclmeet</th>\n",
       "      <th>sclact</th>\n",
       "      <th>gndr</th>\n",
       "      <th>agea</th>\n",
       "      <th>partner</th>\n",
       "    </tr>\n",
       "  </thead>\n",
       "  <tbody>\n",
       "    <tr>\n",
       "      <th>0</th>\n",
       "      <td>CH</td>\n",
       "      <td>5.0</td>\n",
       "      <td>6</td>\n",
       "      <td>3.0</td>\n",
       "      <td>3.0</td>\n",
       "      <td>10.0</td>\n",
       "      <td>5.0</td>\n",
       "      <td>8.0</td>\n",
       "      <td>5.0</td>\n",
       "      <td>4.0</td>\n",
       "      <td>2.0</td>\n",
       "      <td>60.0</td>\n",
       "      <td>1.0</td>\n",
       "    </tr>\n",
       "    <tr>\n",
       "      <th>1</th>\n",
       "      <td>CH</td>\n",
       "      <td>25.0</td>\n",
       "      <td>6</td>\n",
       "      <td>6.0</td>\n",
       "      <td>5.0</td>\n",
       "      <td>7.0</td>\n",
       "      <td>5.0</td>\n",
       "      <td>9.0</td>\n",
       "      <td>3.0</td>\n",
       "      <td>2.0</td>\n",
       "      <td>2.0</td>\n",
       "      <td>59.0</td>\n",
       "      <td>1.0</td>\n",
       "    </tr>\n",
       "    <tr>\n",
       "      <th>2</th>\n",
       "      <td>CH</td>\n",
       "      <td>26.0</td>\n",
       "      <td>6</td>\n",
       "      <td>1.0</td>\n",
       "      <td>8.0</td>\n",
       "      <td>8.0</td>\n",
       "      <td>8.0</td>\n",
       "      <td>7.0</td>\n",
       "      <td>6.0</td>\n",
       "      <td>3.0</td>\n",
       "      <td>1.0</td>\n",
       "      <td>24.0</td>\n",
       "      <td>2.0</td>\n",
       "    </tr>\n",
       "    <tr>\n",
       "      <th>3</th>\n",
       "      <td>CH</td>\n",
       "      <td>28.0</td>\n",
       "      <td>6</td>\n",
       "      <td>4.0</td>\n",
       "      <td>6.0</td>\n",
       "      <td>6.0</td>\n",
       "      <td>7.0</td>\n",
       "      <td>10.0</td>\n",
       "      <td>6.0</td>\n",
       "      <td>2.0</td>\n",
       "      <td>2.0</td>\n",
       "      <td>64.0</td>\n",
       "      <td>1.0</td>\n",
       "    </tr>\n",
       "    <tr>\n",
       "      <th>4</th>\n",
       "      <td>CH</td>\n",
       "      <td>29.0</td>\n",
       "      <td>6</td>\n",
       "      <td>5.0</td>\n",
       "      <td>6.0</td>\n",
       "      <td>7.0</td>\n",
       "      <td>5.0</td>\n",
       "      <td>8.0</td>\n",
       "      <td>7.0</td>\n",
       "      <td>2.0</td>\n",
       "      <td>2.0</td>\n",
       "      <td>55.0</td>\n",
       "      <td>1.0</td>\n",
       "    </tr>\n",
       "  </tbody>\n",
       "</table>\n",
       "</div>"
      ],
      "text/plain": [
       "  cntry  idno  year  tvtot  ppltrst  pplfair  pplhlp  happy  sclmeet  sclact  \\\n",
       "0    CH   5.0     6    3.0      3.0     10.0     5.0    8.0      5.0     4.0   \n",
       "1    CH  25.0     6    6.0      5.0      7.0     5.0    9.0      3.0     2.0   \n",
       "2    CH  26.0     6    1.0      8.0      8.0     8.0    7.0      6.0     3.0   \n",
       "3    CH  28.0     6    4.0      6.0      6.0     7.0   10.0      6.0     2.0   \n",
       "4    CH  29.0     6    5.0      6.0      7.0     5.0    8.0      7.0     2.0   \n",
       "\n",
       "   gndr  agea  partner  \n",
       "0   2.0  60.0      1.0  \n",
       "1   2.0  59.0      1.0  \n",
       "2   1.0  24.0      2.0  \n",
       "3   2.0  64.0      1.0  \n",
       "4   2.0  55.0      1.0  "
      ]
     },
     "execution_count": 2,
     "metadata": {},
     "output_type": "execute_result"
    }
   ],
   "source": [
    "# Read in our data set and take a quick look\n",
    "main_df = pd.read_csv('ESSdata_Thinkful.csv')\n",
    "\n",
    "main_df.head()"
   ]
  },
  {
   "cell_type": "markdown",
   "metadata": {},
   "source": [
    "### 1. Did people become less trusting from 2012 to 2014? Compute results for each country in the sample."
   ]
  },
  {
   "cell_type": "markdown",
   "metadata": {},
   "source": [
    "Let's begin by creating a dataframe that only has the scores for people's trust with a column for each year. Then we can take this information, put it into a histogram, and see if we think it's normal or not."
   ]
  },
  {
   "cell_type": "code",
   "execution_count": 3,
   "metadata": {},
   "outputs": [
    {
     "data": {
      "text/html": [
       "<div>\n",
       "<style scoped>\n",
       "    .dataframe tbody tr th:only-of-type {\n",
       "        vertical-align: middle;\n",
       "    }\n",
       "\n",
       "    .dataframe tbody tr th {\n",
       "        vertical-align: top;\n",
       "    }\n",
       "\n",
       "    .dataframe thead th {\n",
       "        text-align: right;\n",
       "    }\n",
       "</style>\n",
       "<table border=\"1\" class=\"dataframe\">\n",
       "  <thead>\n",
       "    <tr style=\"text-align: right;\">\n",
       "      <th></th>\n",
       "      <th>2012</th>\n",
       "      <th>2014</th>\n",
       "    </tr>\n",
       "  </thead>\n",
       "  <tbody>\n",
       "    <tr>\n",
       "      <th>0</th>\n",
       "      <td>3.0</td>\n",
       "      <td>8.0</td>\n",
       "    </tr>\n",
       "    <tr>\n",
       "      <th>1</th>\n",
       "      <td>5.0</td>\n",
       "      <td>4.0</td>\n",
       "    </tr>\n",
       "    <tr>\n",
       "      <th>2</th>\n",
       "      <td>8.0</td>\n",
       "      <td>8.0</td>\n",
       "    </tr>\n",
       "    <tr>\n",
       "      <th>3</th>\n",
       "      <td>6.0</td>\n",
       "      <td>7.0</td>\n",
       "    </tr>\n",
       "    <tr>\n",
       "      <th>4</th>\n",
       "      <td>6.0</td>\n",
       "      <td>4.0</td>\n",
       "    </tr>\n",
       "  </tbody>\n",
       "</table>\n",
       "</div>"
      ],
      "text/plain": [
       "   2012  2014\n",
       "0   3.0   8.0\n",
       "1   5.0   4.0\n",
       "2   8.0   8.0\n",
       "3   6.0   7.0\n",
       "4   6.0   4.0"
      ]
     },
     "execution_count": 3,
     "metadata": {},
     "output_type": "execute_result"
    }
   ],
   "source": [
    "# Create an empty dataframe\n",
    "yrs_trust = pd.DataFrame()\n",
    "\n",
    "# Create columns for 2014 and 2012 trust rates\n",
    "yrs_trust['2012'] = main_df.loc[main_df['year'] == 6, :]['ppltrst'].reset_index(drop=True)\n",
    "yrs_trust['2014'] = main_df.loc[main_df['year'] == 7, :]['ppltrst'].reset_index(drop=True)\n",
    "\n",
    "# Show what we have so far\n",
    "yrs_trust.head()"
   ]
  },
  {
   "cell_type": "code",
   "execution_count": 4,
   "metadata": {
    "scrolled": true
   },
   "outputs": [
    {
     "data": {
      "image/png": "[encoded data removed]",
      "text/plain": [
       "<Figure size 432x288 with 2 Axes>"
      ]
     },
     "metadata": {
      "needs_background": "light"
     },
     "output_type": "display_data"
    }
   ],
   "source": [
    "# Make a histogram for each year to visually inspect them\n",
    "yrs_trust.hist(sharey=True, sharex=True)\n",
    "\n",
    "plt.show()"
   ]
  },
  {
   "cell_type": "markdown",
   "metadata": {},
   "source": [
    "This looks like the data could possibly be normal but is also quite skewed, so let's test each year for normality. The null hypothesis in these cases is that the sample comes from a normal distribution."
   ]
  },
  {
   "cell_type": "code",
   "execution_count": 5,
   "metadata": {},
   "outputs": [
    {
     "data": {
      "text/plain": [
       "NormaltestResult(statistic=186.89765695754122, pvalue=2.604290647719036e-41)"
      ]
     },
     "execution_count": 5,
     "metadata": {},
     "output_type": "execute_result"
    }
   ],
   "source": [
    "stats.normaltest(yrs_trust['2012'], nan_policy='omit')"
   ]
  },
  {
   "cell_type": "code",
   "execution_count": 6,
   "metadata": {},
   "outputs": [
    {
     "data": {
      "text/plain": [
       "NormaltestResult(statistic=151.69620394925275, pvalue=1.1470645274813038e-33)"
      ]
     },
     "execution_count": 6,
     "metadata": {},
     "output_type": "execute_result"
    }
   ],
   "source": [
    "stats.normaltest(yrs_trust['2014'], nan_policy='omit')"
   ]
  },
  {
   "cell_type": "markdown",
   "metadata": {},
   "source": [
    "Seeing as how both years received a very low p-value (i.e. both are well under 0.05) we can reject the null hypothesis and assume they are not normal. Therefore, we will have to employ non-parametric comparison tests. First we'll deal with any NaN values if we have to."
   ]
  },
  {
   "cell_type": "code",
   "execution_count": 7,
   "metadata": {},
   "outputs": [
    {
     "name": "stdout",
     "output_type": "stream",
     "text": [
      "<class 'pandas.core.frame.DataFrame'>\n",
      "RangeIndex: 4297 entries, 0 to 4296\n",
      "Data columns (total 2 columns):\n",
      "2012    4287 non-null float64\n",
      "2014    4293 non-null float64\n",
      "dtypes: float64(2)\n",
      "memory usage: 67.2 KB\n"
     ]
    }
   ],
   "source": [
    "# Check for empty values\n",
    "yrs_trust.info()"
   ]
  },
  {
   "cell_type": "markdown",
   "metadata": {},
   "source": [
    "Seems we have a few but not a lot, so I think it's safe to fill them in with the median of their column."
   ]
  },
  {
   "cell_type": "code",
   "execution_count": 8,
   "metadata": {},
   "outputs": [],
   "source": [
    "# Replace NaN values with the median of their respective column\n",
    "yrs_trust['2012'].fillna(yrs_trust['2012'].median(), inplace=True)\n",
    "yrs_trust['2014'].fillna(yrs_trust['2014'].median(), inplace=True)"
   ]
  },
  {
   "cell_type": "markdown",
   "metadata": {},
   "source": [
    "Now that the columns are filled in we can complete a Kruskal-Wallis Test (a non-parametric version of ANOVA). The null hypothesis of this test is that the population median of all of the groups are equal."
   ]
  },
  {
   "cell_type": "code",
   "execution_count": 9,
   "metadata": {},
   "outputs": [
    {
     "data": {
      "text/plain": [
       "KruskalResult(statistic=0.16034653885979291, pvalue=0.6888376671804128)"
      ]
     },
     "execution_count": 9,
     "metadata": {},
     "output_type": "execute_result"
    }
   ],
   "source": [
    "# Print the test statistic and p-value for the Kruskal-Wallis Test\n",
    "stats.kruskal(yrs_trust['2012'], yrs_trust['2014'])"
   ]
  },
  {
   "cell_type": "markdown",
   "metadata": {},
   "source": [
    "Since we received quite a large p-value that is >>> 0.05, we fail to reject the null hypothesis. Therefore, we can conclude that it does not seem that people's level of trust changed between 2012 and 2014."
   ]
  },
  {
   "cell_type": "markdown",
   "metadata": {},
   "source": [
    "### 2. Did people become happier from 2012 to 2014? Compute results for each country in the sample."
   ]
  },
  {
   "cell_type": "markdown",
   "metadata": {},
   "source": [
    "Let's start by creating another new dataframe for happiness scores over years."
   ]
  },
  {
   "cell_type": "code",
   "execution_count": 10,
   "metadata": {},
   "outputs": [
    {
     "data": {
      "text/html": [
       "<div>\n",
       "<style scoped>\n",
       "    .dataframe tbody tr th:only-of-type {\n",
       "        vertical-align: middle;\n",
       "    }\n",
       "\n",
       "    .dataframe tbody tr th {\n",
       "        vertical-align: top;\n",
       "    }\n",
       "\n",
       "    .dataframe thead th {\n",
       "        text-align: right;\n",
       "    }\n",
       "</style>\n",
       "<table border=\"1\" class=\"dataframe\">\n",
       "  <thead>\n",
       "    <tr style=\"text-align: right;\">\n",
       "      <th></th>\n",
       "      <th>2012</th>\n",
       "      <th>2014</th>\n",
       "    </tr>\n",
       "  </thead>\n",
       "  <tbody>\n",
       "    <tr>\n",
       "      <th>0</th>\n",
       "      <td>7.0</td>\n",
       "      <td>8.0</td>\n",
       "    </tr>\n",
       "    <tr>\n",
       "      <th>1</th>\n",
       "      <td>8.0</td>\n",
       "      <td>4.0</td>\n",
       "    </tr>\n",
       "    <tr>\n",
       "      <th>2</th>\n",
       "      <td>7.0</td>\n",
       "      <td>5.0</td>\n",
       "    </tr>\n",
       "    <tr>\n",
       "      <th>3</th>\n",
       "      <td>5.0</td>\n",
       "      <td>3.0</td>\n",
       "    </tr>\n",
       "    <tr>\n",
       "      <th>4</th>\n",
       "      <td>0.0</td>\n",
       "      <td>6.0</td>\n",
       "    </tr>\n",
       "  </tbody>\n",
       "</table>\n",
       "</div>"
      ],
      "text/plain": [
       "   2012  2014\n",
       "0   7.0   8.0\n",
       "1   8.0   4.0\n",
       "2   7.0   5.0\n",
       "3   5.0   3.0\n",
       "4   0.0   6.0"
      ]
     },
     "execution_count": 10,
     "metadata": {},
     "output_type": "execute_result"
    }
   ],
   "source": [
    "# Create an empty dataframe\n",
    "yrs_happy = pd.DataFrame()\n",
    "\n",
    "# Create columns for 2014 and 2012 trust rates\n",
    "yrs_happy['2012'] = main_df.loc[main_df['happy'] == 6, :]['ppltrst'].reset_index(drop=True)\n",
    "yrs_happy['2014'] = main_df.loc[main_df['happy'] == 7, :]['ppltrst'].reset_index(drop=True)\n",
    "\n",
    "# Show what we have so far\n",
    "yrs_happy.head()"
   ]
  },
  {
   "cell_type": "markdown",
   "metadata": {},
   "source": [
    "Then print out a nice histogram to show how the data looks."
   ]
  },
  {
   "cell_type": "code",
   "execution_count": 11,
   "metadata": {},
   "outputs": [
    {
     "data": {
      "image/png": "[encoded data removed]",
      "text/plain": [
       "<Figure size 432x288 with 2 Axes>"
      ]
     },
     "metadata": {
      "needs_background": "light"
     },
     "output_type": "display_data"
    }
   ],
   "source": [
    "# Make a histogram for each year to visually inspect them\n",
    "yrs_happy.hist(sharey=True, sharex=True)\n",
    "\n",
    "plt.show()"
   ]
  },
  {
   "cell_type": "markdown",
   "metadata": {},
   "source": [
    "This looks more normal than the years scores, but let's do a normal test to be sure."
   ]
  },
  {
   "cell_type": "code",
   "execution_count": 12,
   "metadata": {},
   "outputs": [
    {
     "data": {
      "text/plain": [
       "NormaltestResult(statistic=8.025142609717449, pvalue=0.018086828643633816)"
      ]
     },
     "execution_count": 12,
     "metadata": {},
     "output_type": "execute_result"
    }
   ],
   "source": [
    "stats.normaltest(yrs_happy['2012'], nan_policy='omit')"
   ]
  },
  {
   "cell_type": "code",
   "execution_count": 13,
   "metadata": {},
   "outputs": [
    {
     "data": {
      "text/plain": [
       "NormaltestResult(statistic=8.025142609717449, pvalue=0.018086828643633816)"
      ]
     },
     "execution_count": 13,
     "metadata": {},
     "output_type": "execute_result"
    }
   ],
   "source": [
    "stats.normaltest(yrs_happy['2012'], nan_policy='omit')"
   ]
  },
  {
   "cell_type": "markdown",
   "metadata": {},
   "source": [
    "Both years received values well above our usual 0.05 margin for p-values, so we can conclude that these subsets of the data are likely distributed normally. Therefore, we can go ahead with our usual parametric testing. First though let's make sure we fill in any empty values for the years."
   ]
  },
  {
   "cell_type": "code",
   "execution_count": 14,
   "metadata": {},
   "outputs": [
    {
     "name": "stdout",
     "output_type": "stream",
     "text": [
      "<class 'pandas.core.frame.DataFrame'>\n",
      "RangeIndex: 612 entries, 0 to 611\n",
      "Data columns (total 2 columns):\n",
      "2012    612 non-null float64\n",
      "2014    610 non-null float64\n",
      "dtypes: float64(2)\n",
      "memory usage: 9.6 KB\n"
     ]
    }
   ],
   "source": [
    "# Check for empty values\n",
    "yrs_happy.info()"
   ]
  },
  {
   "cell_type": "markdown",
   "metadata": {},
   "source": [
    "Seems we have 2 missing values from 2014, so let's give them the mean of the year."
   ]
  },
  {
   "cell_type": "code",
   "execution_count": 15,
   "metadata": {},
   "outputs": [],
   "source": [
    "# Replace NaN values with the mean of their respective column\n",
    "yrs_happy['2014'].fillna(yrs_happy['2014'].mean(), inplace=True)"
   ]
  },
  {
   "cell_type": "markdown",
   "metadata": {},
   "source": [
    "Now we can perform our t-test on the two columns. The null hypothesis of this test is that the two independent samples have identical average values."
   ]
  },
  {
   "cell_type": "code",
   "execution_count": 16,
   "metadata": {},
   "outputs": [
    {
     "data": {
      "text/plain": [
       "Ttest_indResult(statistic=-0.3404206646450707, pvalue=0.7335982690492208)"
      ]
     },
     "execution_count": 16,
     "metadata": {},
     "output_type": "execute_result"
    }
   ],
   "source": [
    "stats.ttest_ind(yrs_happy['2012'], yrs_happy['2014'])"
   ]
  },
  {
   "cell_type": "markdown",
   "metadata": {},
   "source": [
    "Since we received such a large p-value, we fail to reject the null hypothesis. Therefore, we can state that it is unlikely that people are more happy in 2014 than in 2012."
   ]
  },
  {
   "cell_type": "markdown",
   "metadata": {},
   "source": [
    "### 3. Who reported watching more TV in 2012, men or women?"
   ]
  },
  {
   "cell_type": "markdown",
   "metadata": {},
   "source": [
    "For this one we'll take out just the information from 2012, split it between men and women's tv totals, and analyze from there."
   ]
  },
  {
   "cell_type": "code",
   "execution_count": 17,
   "metadata": {
    "scrolled": true
   },
   "outputs": [],
   "source": [
    "# Make a copy of the dataframe that only contains information from 2012\n",
    "main_2012 = main_df[main_df['year'] == 6].copy()"
   ]
  },
  {
   "cell_type": "code",
   "execution_count": 18,
   "metadata": {},
   "outputs": [],
   "source": [
    "# Take out the TV total information for men and women into a new dataframe\n",
    "mf_2012tv = pd.DataFrame()\n",
    "\n",
    "mf_2012tv['male'] = main_2012[main_2012['gndr'] == 1]['tvtot'].reset_index(drop=True)\n",
    "mf_2012tv['female'] = main_2012[main_2012['gndr'] == 2]['tvtot'].reset_index(drop=True)"
   ]
  },
  {
   "cell_type": "code",
   "execution_count": 19,
   "metadata": {},
   "outputs": [
    {
     "data": {
      "image/png": "[encoded data removed]",
      "text/plain": [
       "<Figure size 432x288 with 2 Axes>"
      ]
     },
     "metadata": {
      "needs_background": "light"
     },
     "output_type": "display_data"
    }
   ],
   "source": [
    "# Make a histogram for each year to visually inspect them\n",
    "mf_2012tv.hist(sharey=True, sharex=True)\n",
    "\n",
    "plt.show()"
   ]
  },
  {
   "cell_type": "markdown",
   "metadata": {},
   "source": [
    "These don't look very normal to me, but let's be sure with a normal test."
   ]
  },
  {
   "cell_type": "code",
   "execution_count": 20,
   "metadata": {},
   "outputs": [
    {
     "data": {
      "text/plain": [
       "NormaltestResult(statistic=407.6545412430977, pvalue=3.0125974743415432e-89)"
      ]
     },
     "execution_count": 20,
     "metadata": {},
     "output_type": "execute_result"
    }
   ],
   "source": [
    "stats.normaltest(mf_2012tv['male'], nan_policy='omit')"
   ]
  },
  {
   "cell_type": "code",
   "execution_count": 21,
   "metadata": {},
   "outputs": [
    {
     "data": {
      "text/plain": [
       "NormaltestResult(statistic=473.95970583307366, pvalue=1.2049181771413786e-103)"
      ]
     },
     "execution_count": 21,
     "metadata": {},
     "output_type": "execute_result"
    }
   ],
   "source": [
    "stats.normaltest(mf_2012tv['female'], nan_policy='omit')"
   ]
  },
  {
   "cell_type": "markdown",
   "metadata": {},
   "source": [
    "As suspected, the p-values are very low, and we can therefore reject the null hypothesis that these are normal. Thus we can continue with non-parametric testing once more."
   ]
  },
  {
   "cell_type": "code",
   "execution_count": 22,
   "metadata": {},
   "outputs": [
    {
     "name": "stdout",
     "output_type": "stream",
     "text": [
      "<class 'pandas.core.frame.DataFrame'>\n",
      "RangeIndex: 2154 entries, 0 to 2153\n",
      "Data columns (total 2 columns):\n",
      "male      2151 non-null float64\n",
      "female    2140 non-null float64\n",
      "dtypes: float64(2)\n",
      "memory usage: 33.7 KB\n"
     ]
    }
   ],
   "source": [
    "mf_2012tv.info()"
   ]
  },
  {
   "cell_type": "markdown",
   "metadata": {},
   "source": [
    "Looks like both columns have some missing values, so we'll fill those in with medians here."
   ]
  },
  {
   "cell_type": "code",
   "execution_count": 23,
   "metadata": {},
   "outputs": [],
   "source": [
    "mf_2012tv['male'].fillna(mf_2012tv['male'].median(), inplace=True)\n",
    "mf_2012tv['female'].fillna(mf_2012tv['female'].median(), inplace=True)"
   ]
  },
  {
   "cell_type": "code",
   "execution_count": 24,
   "metadata": {
    "scrolled": true
   },
   "outputs": [
    {
     "data": {
      "text/plain": [
       "KruskalResult(statistic=0.5981706561585179, pvalue=0.43927685606865285)"
      ]
     },
     "execution_count": 24,
     "metadata": {},
     "output_type": "execute_result"
    }
   ],
   "source": [
    "# Print the test statistic and p-value for the Kruskal-Wallis Test\n",
    "stats.kruskal(mf_2012tv['male'], mf_2012tv['female'])"
   ]
  },
  {
   "cell_type": "markdown",
   "metadata": {},
   "source": [
    "Since this p-value is well above the 0.05 margin, we fail to reject the null hypothesis. This means we can assume that the median of the sex groups are equal when it comes to television."
   ]
  },
  {
   "cell_type": "markdown",
   "metadata": {},
   "source": [
    "### 4. Who was more likely to believe people were fair in 2012, people living with a partner or people living alone?"
   ]
  },
  {
   "cell_type": "markdown",
   "metadata": {},
   "source": [
    "Since we already have a dataframe that's just the 2012 data, we can now take our the fairness scores from this year and split it by whether or not they are living with a partner quite easily. Let's proceed as we have done before."
   ]
  },
  {
   "cell_type": "code",
   "execution_count": 25,
   "metadata": {},
   "outputs": [],
   "source": [
    "# Take out the fairness scores for people living with or without partners into a new dataframe\n",
    "fbp_df = pd.DataFrame()\n",
    "\n",
    "fbp_df['partner'] = main_2012[main_2012['partner'] == 1]['pplfair'].reset_index(drop=True)\n",
    "fbp_df['no partner'] = main_2012[main_2012['partner'] == 2]['pplfair'].reset_index(drop=True)"
   ]
  },
  {
   "cell_type": "code",
   "execution_count": 26,
   "metadata": {},
   "outputs": [
    {
     "data": {
      "image/png": "[encoded data removed]",
      "text/plain": [
       "<Figure size 432x288 with 2 Axes>"
      ]
     },
     "metadata": {
      "needs_background": "light"
     },
     "output_type": "display_data"
    }
   ],
   "source": [
    "# Make a histogram\n",
    "fbp_df.hist(sharey=True, sharex=True)\n",
    "\n",
    "plt.show()"
   ]
  },
  {
   "cell_type": "markdown",
   "metadata": {},
   "source": [
    "These don't quite look normal, but let's perform normal tests to be sure."
   ]
  },
  {
   "cell_type": "code",
   "execution_count": 27,
   "metadata": {},
   "outputs": [
    {
     "data": {
      "text/plain": [
       "NormaltestResult(statistic=179.1040099384887, pvalue=1.2825030260118435e-39)"
      ]
     },
     "execution_count": 27,
     "metadata": {},
     "output_type": "execute_result"
    }
   ],
   "source": [
    "stats.normaltest(fbp_df['partner'], nan_policy='omit')"
   ]
  },
  {
   "cell_type": "code",
   "execution_count": 28,
   "metadata": {},
   "outputs": [
    {
     "data": {
      "text/plain": [
       "NormaltestResult(statistic=64.92830332216809, pvalue=7.961558194894824e-15)"
      ]
     },
     "execution_count": 28,
     "metadata": {},
     "output_type": "execute_result"
    }
   ],
   "source": [
    "stats.normaltest(fbp_df['no partner'], nan_policy='omit')"
   ]
  },
  {
   "cell_type": "markdown",
   "metadata": {},
   "source": [
    "As both of the p-values are well below our 0.05 margin we can reject the null hypothesis, and claim that these two sets of data are most likely not from a normal distribution. Let's then check for missing values, fill in as necessary, and perform our non-parametric testing."
   ]
  },
  {
   "cell_type": "code",
   "execution_count": 29,
   "metadata": {},
   "outputs": [
    {
     "name": "stdout",
     "output_type": "stream",
     "text": [
      "<class 'pandas.core.frame.DataFrame'>\n",
      "RangeIndex: 2674 entries, 0 to 2673\n",
      "Data columns (total 2 columns):\n",
      "partner       2663 non-null float64\n",
      "no partner    1608 non-null float64\n",
      "dtypes: float64(2)\n",
      "memory usage: 41.9 KB\n"
     ]
    }
   ],
   "source": [
    "fbp_df.info()"
   ]
  },
  {
   "cell_type": "markdown",
   "metadata": {},
   "source": [
    "There are quite a few missing entries for the \"no partner\" data, so it would be misleading if we filled these values in. Therefore, we can have our Kruskal-Wallis test omit them on its own."
   ]
  },
  {
   "cell_type": "code",
   "execution_count": 30,
   "metadata": {},
   "outputs": [
    {
     "data": {
      "text/plain": [
       "KruskalResult(statistic=13.739649374653519, pvalue=0.00020997468964373384)"
      ]
     },
     "execution_count": 30,
     "metadata": {},
     "output_type": "execute_result"
    }
   ],
   "source": [
    "# Print the test statistic and p-value for the Kruskal-Wallis Test\n",
    "stats.kruskal(fbp_df['partner'], fbp_df['no partner'], nan_policy='omit')"
   ]
  },
  {
   "cell_type": "markdown",
   "metadata": {},
   "source": [
    "The null hypothesis of a Kruskal-Wallis test is that the population median of all the groups is equal, and we received a p-value well below the 0.05 confidence level. Therefore we can conclude that in 2012, it seems highly likely that people living with a partner had a difference in opinion from those who did not live with a partner. However, who had the higher fairness score? Let's take a look at the medians to decide that."
   ]
  },
  {
   "cell_type": "code",
   "execution_count": 31,
   "metadata": {},
   "outputs": [
    {
     "name": "stdout",
     "output_type": "stream",
     "text": [
      "People living with a partner had a median fairness score of: 7.0\n",
      "People living alone had a median fairness score of: 6.0\n"
     ]
    }
   ],
   "source": [
    "print(\"People living with a partner had a median fairness score of:\", fbp_df['partner'].median())\n",
    "print(\"People living alone had a median fairness score of:\", fbp_df['no partner'].median())"
   ]
  },
  {
   "cell_type": "markdown",
   "metadata": {},
   "source": [
    "Since the people living with a partner has a higher median, and we have shown the medians between the groups to be statistically different from each other, we can conclude that those living with their partner were more likely to believe people were fair in 2012."
   ]
  },
  {
   "cell_type": "markdown",
   "metadata": {},
   "source": [
    "### 5. Pick three or four of the countries in the sample and compare how often people met socially in 2014. Are there differences, and if so, which countries stand out?"
   ]
  },
  {
   "cell_type": "markdown",
   "metadata": {},
   "source": [
    "Let's see which three countries have the largest samples to pick from and take our data from them. First let's filter it to just 2014 cases."
   ]
  },
  {
   "cell_type": "code",
   "execution_count": 32,
   "metadata": {},
   "outputs": [],
   "source": [
    "# Make a copy of the dataframe that only contains information from 2012\n",
    "main_2014 = main_df[main_df['year'] == 7].copy()"
   ]
  },
  {
   "cell_type": "code",
   "execution_count": 33,
   "metadata": {},
   "outputs": [
    {
     "data": {
      "text/plain": [
       "ES    1213\n",
       "SE     908\n",
       "CH     773\n",
       "NO     731\n",
       "CZ     658\n",
       "DE      14\n",
       "Name: cntry, dtype: int64"
      ]
     },
     "execution_count": 33,
     "metadata": {},
     "output_type": "execute_result"
    }
   ],
   "source": [
    "main_2014['cntry'].value_counts()"
   ]
  },
  {
   "cell_type": "markdown",
   "metadata": {},
   "source": [
    "Looks like we'll be taking Spain, Sweden, and China's data."
   ]
  },
  {
   "cell_type": "code",
   "execution_count": 34,
   "metadata": {},
   "outputs": [],
   "source": [
    "# Make list of three top countries\n",
    "cntry_list = ['ES', 'SE', 'CH']\n",
    "\n",
    "# Make subset of countries in our list in a new dataframe\n",
    "so_cntry_2014 = pd.DataFrame()\n",
    "\n",
    "so_cntry_2014 = main_2014[main_2014['cntry'].isin(cntry_list)].reset_index(drop=True)"
   ]
  },
  {
   "cell_type": "code",
   "execution_count": 35,
   "metadata": {},
   "outputs": [],
   "source": [
    "# Then take out just the social meeting numbers for each country into their own columns\n",
    "cntry_soc = pd.DataFrame()\n",
    "\n",
    "cntry_soc['spain'] = so_cntry_2014[so_cntry_2014['cntry'] == 'ES']['sclmeet'].reset_index(drop=True)\n",
    "cntry_soc['sweden'] = so_cntry_2014[so_cntry_2014['cntry'] == 'SE']['sclmeet'].reset_index(drop=True)\n",
    "cntry_soc['china']  = so_cntry_2014[so_cntry_2014['cntry'] == 'CH']['sclmeet'].reset_index(drop=True)"
   ]
  },
  {
   "cell_type": "code",
   "execution_count": 36,
   "metadata": {
    "scrolled": true
   },
   "outputs": [
    {
     "data": {
      "image/png": "[encoded data removed]",
      "text/plain": [
       "<Figure size 432x288 with 4 Axes>"
      ]
     },
     "metadata": {
      "needs_background": "light"
     },
     "output_type": "display_data"
    }
   ],
   "source": [
    "# Make a histogram\n",
    "cntry_soc.hist(sharey=True, sharex=True)\n",
    "\n",
    "plt.show()"
   ]
  },
  {
   "cell_type": "markdown",
   "metadata": {},
   "source": [
    "These definitely don't seem normal to me, at this point I think it's safe to skip the normal test. Let's see if we have to deal with any missing values."
   ]
  },
  {
   "cell_type": "code",
   "execution_count": 37,
   "metadata": {},
   "outputs": [
    {
     "name": "stdout",
     "output_type": "stream",
     "text": [
      "<class 'pandas.core.frame.DataFrame'>\n",
      "RangeIndex: 1213 entries, 0 to 1212\n",
      "Data columns (total 3 columns):\n",
      "spain     1211 non-null float64\n",
      "sweden    908 non-null float64\n",
      "china     772 non-null float64\n",
      "dtypes: float64(3)\n",
      "memory usage: 28.5 KB\n"
     ]
    }
   ],
   "source": [
    "cntry_soc.info()"
   ]
  },
  {
   "cell_type": "markdown",
   "metadata": {},
   "source": [
    "Probably best we don't try to influence the statistics with this one and just have the Kruskal test omit NaN values for now."
   ]
  },
  {
   "cell_type": "code",
   "execution_count": 38,
   "metadata": {},
   "outputs": [
    {
     "data": {
      "text/plain": [
       "KruskalResult(statistic=20.974963481937596, pvalue=2.7883324361335602e-05)"
      ]
     },
     "execution_count": 38,
     "metadata": {},
     "output_type": "execute_result"
    }
   ],
   "source": [
    "# Print the test statistic and p-value for the Kruskal-Wallis Test\n",
    "stats.kruskal(cntry_soc['spain'], cntry_soc['sweden'], cntry_soc['china'], nan_policy='omit')"
   ]
  },
  {
   "cell_type": "markdown",
   "metadata": {},
   "source": [
    "Since we got such a low p-value, we can say that the null hypothesis is rejected and that the medians of these countries is statistically different. Let us then check out the scores."
   ]
  },
  {
   "cell_type": "code",
   "execution_count": 39,
   "metadata": {},
   "outputs": [
    {
     "name": "stdout",
     "output_type": "stream",
     "text": [
      "The median value for spain is 6.0.\n",
      "The median value for sweden is 6.0.\n",
      "The median value for china is 6.0.\n"
     ]
    }
   ],
   "source": [
    "# Print out the median for each country\n",
    "for cntry in cntry_soc.columns:\n",
    "    print(\"The median value for {} is {}.\".format(cntry, cntry_soc[cntry].median()))"
   ]
  },
  {
   "cell_type": "markdown",
   "metadata": {},
   "source": [
    "Well all the medians are the exact same, so looking at that isn't very telling. Let's look at the percentages instead to get a better idea of what's going on."
   ]
  },
  {
   "cell_type": "code",
   "execution_count": 40,
   "metadata": {},
   "outputs": [
    {
     "name": "stdout",
     "output_type": "stream",
     "text": [
      "The percentage of citizens from spain that gave a score of 5 is 0.21882741535920727\n",
      "The percentage of citizens from spain that gave a score of 6 is 0.3129644921552436\n",
      "The percentage of citizens from spain that gave a score of 7 is 0.20644095788604458\n",
      "\n",
      "\n",
      "The percentage of citizens from sweden that gave a score of 5 is 0.13766519823788545\n",
      "The percentage of citizens from sweden that gave a score of 6 is 0.32819383259911894\n",
      "The percentage of citizens from sweden that gave a score of 7 is 0.2522026431718062\n",
      "\n",
      "\n",
      "The percentage of citizens from china that gave a score of 5 is 0.18134715025906736\n",
      "The percentage of citizens from china that gave a score of 6 is 0.3860103626943005\n",
      "The percentage of citizens from china that gave a score of 7 is 0.12046632124352331\n",
      "\n",
      "\n"
     ]
    }
   ],
   "source": [
    "# For each country, print out the percentage of people who gave 5, 6, and 7 scores\n",
    "for cntry in cntry_soc.columns:\n",
    "    for score in [5, 6, 7]:    \n",
    "        \n",
    "        perc_cntry = cntry_soc[cntry].value_counts().loc[score] / cntry_soc[cntry].value_counts().sum()\n",
    "        \n",
    "        print(\"The percentage of citizens from {} that gave a score of {} is {}\".format(\n",
    "                                                                                        cntry,\n",
    "                                                                                        score,\n",
    "                                                                                        perc_cntry)\n",
    "                                                                                        )\n",
    "    print(\"\\n\")"
   ]
  },
  {
   "cell_type": "markdown",
   "metadata": {},
   "source": [
    "Looks like Sweden got the largest percentage of scores of seven when it comes to socializing, while also holding the second highest spot for giving scores of six in this social category. Surprisingly China has quite a low percentage of scores of 7, but still does the best in the 6 range. If I had to choose the most social country just from looking at these stats however, I would imagine it is Sweden."
   ]
  },
  {
   "cell_type": "markdown",
   "metadata": {},
   "source": [
    "### 6. Pick three or four of the countries in the sample and compare how often people took part in social activities, relative to others their age, in 2014. Are there differences, and if so, which Countries stand out?"
   ]
  },
  {
   "cell_type": "markdown",
   "metadata": {},
   "source": [
    "Since we already have a dataframe with just the 2014 information, we can easily take what we need from that to move forward. Let's stick with the three countries we used in the last example as well."
   ]
  },
  {
   "cell_type": "code",
   "execution_count": 41,
   "metadata": {},
   "outputs": [],
   "source": [
    "# Then take out just the social social activities with same age numbers for each country into their own columns\n",
    "age_soc = pd.DataFrame()\n",
    "\n",
    "age_soc['spain'] = so_cntry_2014[so_cntry_2014['cntry'] == 'ES']['sclact'].reset_index(drop=True)\n",
    "age_soc['sweden'] = so_cntry_2014[so_cntry_2014['cntry'] == 'SE']['sclact'].reset_index(drop=True)\n",
    "age_soc['china']  = so_cntry_2014[so_cntry_2014['cntry'] == 'CH']['sclact'].reset_index(drop=True)"
   ]
  },
  {
   "cell_type": "code",
   "execution_count": 42,
   "metadata": {},
   "outputs": [
    {
     "data": {
      "image/png": "[encoded data removed]",
      "text/plain": [
       "<Figure size 432x288 with 4 Axes>"
      ]
     },
     "metadata": {
      "needs_background": "light"
     },
     "output_type": "display_data"
    }
   ],
   "source": [
    "# Make a histogram\n",
    "age_soc.hist(sharey=True, sharex=True)\n",
    "\n",
    "plt.show()"
   ]
  },
  {
   "cell_type": "markdown",
   "metadata": {},
   "source": [
    "This looks somewhat normal, so let's do some tests to be sure one way or another."
   ]
  },
  {
   "cell_type": "code",
   "execution_count": 43,
   "metadata": {},
   "outputs": [
    {
     "data": {
      "text/plain": [
       "NormaltestResult(statistic=5.3565262760313574, pvalue=0.06868234236702869)"
      ]
     },
     "execution_count": 43,
     "metadata": {},
     "output_type": "execute_result"
    }
   ],
   "source": [
    "stats.normaltest(age_soc['spain'], nan_policy='omit')"
   ]
  },
  {
   "cell_type": "code",
   "execution_count": 44,
   "metadata": {},
   "outputs": [
    {
     "data": {
      "text/plain": [
       "NormaltestResult(statistic=0.9537534293814426, pvalue=0.6207190501164626)"
      ]
     },
     "execution_count": 44,
     "metadata": {},
     "output_type": "execute_result"
    }
   ],
   "source": [
    "stats.normaltest(age_soc['sweden'], nan_policy='omit')"
   ]
  },
  {
   "cell_type": "code",
   "execution_count": 45,
   "metadata": {},
   "outputs": [
    {
     "data": {
      "text/plain": [
       "NormaltestResult(statistic=0.6684268007635803, pvalue=0.7159009923799846)"
      ]
     },
     "execution_count": 45,
     "metadata": {},
     "output_type": "execute_result"
    }
   ],
   "source": [
    "stats.normaltest(age_soc['china'], nan_policy='omit')"
   ]
  },
  {
   "cell_type": "markdown",
   "metadata": {},
   "source": [
    "Looks like none of them managed to pass the test of normality, although Spain got close. Regardless, we'll continue with non-parametric testing."
   ]
  },
  {
   "cell_type": "code",
   "execution_count": 46,
   "metadata": {},
   "outputs": [
    {
     "name": "stdout",
     "output_type": "stream",
     "text": [
      "<class 'pandas.core.frame.DataFrame'>\n",
      "RangeIndex: 1213 entries, 0 to 1212\n",
      "Data columns (total 3 columns):\n",
      "spain     1185 non-null float64\n",
      "sweden    904 non-null float64\n",
      "china     765 non-null float64\n",
      "dtypes: float64(3)\n",
      "memory usage: 28.5 KB\n"
     ]
    }
   ],
   "source": [
    "age_soc.info()"
   ]
  },
  {
   "cell_type": "markdown",
   "metadata": {},
   "source": [
    "Again, because we have many missing values for different countries, we can just tell the Kruskal test to omit NaNs."
   ]
  },
  {
   "cell_type": "code",
   "execution_count": 47,
   "metadata": {},
   "outputs": [
    {
     "data": {
      "text/plain": [
       "KruskalResult(statistic=42.35627547270334, pvalue=6.345292463160473e-10)"
      ]
     },
     "execution_count": 47,
     "metadata": {},
     "output_type": "execute_result"
    }
   ],
   "source": [
    "# Print the test statistic and p-value for the Kruskal-Wallis Test\n",
    "stats.kruskal(age_soc['spain'], age_soc['sweden'], age_soc['china'], nan_policy='omit')"
   ]
  },
  {
   "cell_type": "markdown",
   "metadata": {},
   "source": [
    "Interestingly enough, the p-value is very small and we can therefore reject the null hypothesis and say that it is very likely that these countries see different levels of social activity within the same age groups."
   ]
  },
  {
   "cell_type": "code",
   "execution_count": 48,
   "metadata": {},
   "outputs": [
    {
     "name": "stdout",
     "output_type": "stream",
     "text": [
      "The percentage of citizens from spain that gave a score of 4 is 0.12138728323699421\n",
      "The percentage of citizens from spain that gave a score of 5 is 0.023947151114781174\n",
      "\n",
      "\n",
      "The percentage of citizens from sweden that gave a score of 4 is 0.18612334801762115\n",
      "The percentage of citizens from sweden that gave a score of 5 is 0.024229074889867842\n",
      "\n",
      "\n",
      "The percentage of citizens from china that gave a score of 4 is 0.15544041450777202\n",
      "The percentage of citizens from china that gave a score of 5 is 0.031088082901554404\n",
      "\n",
      "\n"
     ]
    }
   ],
   "source": [
    "# For each country, print out the percentage of people who gave 5, 6, and 7 scores\n",
    "for cntry in age_soc.columns:\n",
    "    for score in [4, 5]:    \n",
    "        \n",
    "        perc_cntry = age_soc[cntry].value_counts().loc[score] / cntry_soc[cntry].value_counts().sum()\n",
    "        \n",
    "        print(\"The percentage of citizens from {} that gave a score of {} is {}\".format(\n",
    "                                                                                        cntry,\n",
    "                                                                                        score,\n",
    "                                                                                        perc_cntry)\n",
    "                                                                                        )\n",
    "    print(\"\\n\")"
   ]
  },
  {
   "cell_type": "markdown",
   "metadata": {},
   "source": [
    "The scores of taking part in social activity compared to others of the same age range from 1 - 5 with 5 being \"much more than most\" so I only looked at scores of 4 and 5 to quickly compare between countries. It looks like China has the highest percentage of scores of 5 and the second highest percentage of scores of 4, so I would wager that it has the highest amount of this sort of activity of the countries in this subset."
   ]
  }
 ],
 "metadata": {
  "kernelspec": {
   "display_name": "Python 3",
   "language": "python",
   "name": "python3"
  },
  "language_info": {
   "codemirror_mode": {
    "name": "ipython",
    "version": 3
   },
   "file_extension": ".py",
   "mimetype": "text/x-python",
   "name": "python",
   "nbconvert_exporter": "python",
   "pygments_lexer": "ipython3",
   "version": "3.6.2"
  }
 },
 "nbformat": 4,
 "nbformat_minor": 2
}
